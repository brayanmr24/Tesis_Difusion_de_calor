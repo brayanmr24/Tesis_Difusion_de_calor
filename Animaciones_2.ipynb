{
 "cells": [
  {
   "cell_type": "code",
   "execution_count": null,
   "id": "67f045bc",
   "metadata": {},
   "outputs": [],
   "source": [
    "using Plots, LibSerialPort, SparseArrays, LinearAlgebra"
   ]
  },
  {
   "cell_type": "code",
   "execution_count": null,
   "id": "2617dd56",
   "metadata": {},
   "outputs": [],
   "source": [
    "datos_de_temperatura = DataFrame(CSV.File(\"Datos_de_temperatura.csv\"))\n",
    "datos_temp = datos_de_temperatura[!,1]\n",
    "f(x,y) = datos_temp[y+(10*(x-1))]"
   ]
  },
  {
   "cell_type": "code",
   "execution_count": null,
   "id": "8e81f24e",
   "metadata": {},
   "outputs": [],
   "source": [
    "n = Int16(length(datos_temp)/10)\n",
    "animacion = @animate for x ∈ 0:n-1\n",
    "    heatmap(1:10, [1], reshape(datos_temp[((x*10)+1):((x*10)+10)],1,10), aspect_ratio = 1, title = \"n = $(x)     t = $(2*x) s\", ticks = false, axis = false, clim = (19,38))\n",
    "    for i ∈ 1:10\n",
    "        annotate!(i, 2, (\"$(datos_de_temperatura[(x*10)+i,1])\", 4, :center))\n",
    "    end\n",
    "    a = plot!()\n",
    "    b = surface(1:x+1,1:10,f, title = \"n = $(x)     t = $(2*x) s\", clim = (19,38))\n",
    "    plot(a, b, layout = (1,2), dpi = 150)\n",
    "end"
   ]
  },
  {
   "cell_type": "code",
   "execution_count": null,
   "id": "36ad0c1c",
   "metadata": {},
   "outputs": [],
   "source": [
    "gif(animacion, \"primera.gif\", fps = 10)"
   ]
  },
  {
   "cell_type": "code",
   "execution_count": null,
   "id": "409398e5",
   "metadata": {},
   "outputs": [],
   "source": [
    "datos_de_temperatura = DataFrame(CSV.File(\"Datos_de_temperatura_2.csv\"))\n",
    "datos_temp = datos_de_temperatura[!,1]\n",
    "f2(x,y) = datos_temp[(10*x)-y+1]"
   ]
  },
  {
   "cell_type": "code",
   "execution_count": null,
   "id": "6c8a9642",
   "metadata": {},
   "outputs": [],
   "source": [
    "n = Int16(length(datos_temp)/10)\n",
    "animacion = @animate for x ∈ 0:n-1\n",
    "    heatmap(1:10, [1], reshape(reverse(datos_temp[((x*10)+1):((x*10)+10)]),1,10), aspect_ratio = 1, title = \"t = $(x) s\", ticks = false, axis = false, clim = (21,41))\n",
    "    for i ∈ 1:10\n",
    "        annotate!(i, 2, (\"$(datos_de_temperatura[((x+1)*10)-i+1,1])\", 4, :center))\n",
    "    end\n",
    "    a = plot!()\n",
    "    b = surface(1:x+1,1:10,f2, title = \"t = $(x) s\", clim = (21,40))\n",
    "    plot(a, b, layout = (1,2), dpi = 150)\n",
    "end"
   ]
  },
  {
   "cell_type": "code",
   "execution_count": null,
   "id": "e34ef295",
   "metadata": {},
   "outputs": [],
   "source": [
    "gif(animacion, \"segunda.gif\", fps = 10)"
   ]
  },
  {
   "cell_type": "code",
   "execution_count": null,
   "id": "258b72e3",
   "metadata": {},
   "outputs": [],
   "source": [
    "datos_de_temperatura = DataFrame(CSV.File(\"Datos_de_temperatura_3.csv\"))\n",
    "datos_temp = datos_de_temperatura[!,1]\n",
    "f2(x,y) = datos_temp[(10*x)-y+1]"
   ]
  },
  {
   "cell_type": "code",
   "execution_count": null,
   "id": "6bd6765a",
   "metadata": {},
   "outputs": [],
   "source": [
    "n = Int16(length(datos_temp)/10)\n",
    "animacion = @animate for x ∈ 0:n-1\n",
    "    heatmap(1:10, [1], reshape(reverse(datos_temp[((x*10)+1):((x*10)+10)]),1,10), aspect_ratio = 1, title = \"t = $(x) s\", ticks = false, axis = false, clim = (21,41))\n",
    "    for i ∈ 1:10\n",
    "        annotate!(i, 2, (\"$(datos_de_temperatura[((x+1)*10)-i+1,1])\", 4, :center))\n",
    "    end\n",
    "    a = plot!()\n",
    "    b = surface(1:x+1,1:10,f2, title = \"t = $(x) s\", clim = (21,40))\n",
    "    plot(a, b, layout = (1,2), dpi = 150)\n",
    "end"
   ]
  },
  {
   "cell_type": "code",
   "execution_count": null,
   "id": "521a5799",
   "metadata": {},
   "outputs": [],
   "source": [
    "gif(animacion, \"tercera.gif\", fps = 10)"
   ]
  },
  {
   "cell_type": "code",
   "execution_count": null,
   "id": "980ee758",
   "metadata": {},
   "outputs": [],
   "source": [
    "datos_de_temperatura = DataFrame(CSV.File(\"Datos_de_temperatura_4.csv\"))\n",
    "datos_temp = datos_de_temperatura[!,1]\n",
    "f2(x,y) = datos_temp[(10*x)-y+1]"
   ]
  },
  {
   "cell_type": "code",
   "execution_count": null,
   "id": "a1f4a6fd",
   "metadata": {},
   "outputs": [],
   "source": [
    "n = Int16(length(datos_temp)/10)\n",
    "animacion = @animate for x ∈ 0:n-1\n",
    "    heatmap(1:10, [1], reshape(reverse(datos_temp[((x*10)+1):((x*10)+10)]),1,10), aspect_ratio = 1, title = \"t = $(x) s\", ticks = false, axis = false, clim = (21,66))\n",
    "    for i ∈ 1:10\n",
    "        annotate!(i, 2, (\"$(datos_de_temperatura[((x+1)*10)-i+1,1])\", 4, :center))\n",
    "    end\n",
    "    a = plot!()\n",
    "    b = surface(1:x+1,1:10,f2, title = \"t = $(x) s\", clim = (21,66))\n",
    "    plot(a, b, layout = (1,2), dpi = 150)\n",
    "end"
   ]
  },
  {
   "cell_type": "code",
   "execution_count": null,
   "id": "30de21a6",
   "metadata": {},
   "outputs": [],
   "source": [
    "gif(animacion, \"cuarta.gif\", fps = 10)"
   ]
  },
  {
   "cell_type": "code",
   "execution_count": null,
   "id": "80ff48b4",
   "metadata": {},
   "outputs": [],
   "source": [
    "com = open(\"COM4\",9600)"
   ]
  },
  {
   "cell_type": "code",
   "execution_count": null,
   "id": "e825b8c7",
   "metadata": {},
   "outputs": [],
   "source": [
    "comdata = String(read(com))\n",
    "data = split(comdata,\"\\r\\n\",keepempty=false)\n",
    "data_3 = split(data_2,\", \",keepempty=false)\n",
    "data_4 = parse.(Float32,data_3)\n",
    "data_5 = reshape(data_4,7,10)"
   ]
  },
  {
   "cell_type": "code",
   "execution_count": null,
   "id": "e00db1de",
   "metadata": {},
   "outputs": [],
   "source": [
    "datos_de_temperatura = DataFrame(CSV.File(\"Datos_de_temperatura_6.csv\"))\n",
    "datos_temp = datos_de_temperatura[!,1]"
   ]
  },
  {
   "cell_type": "code",
   "execution_count": null,
   "id": "a5668ea7",
   "metadata": {},
   "outputs": [],
   "source": [
    "minimum(datos_temp),maximum(datos_temp)"
   ]
  },
  {
   "cell_type": "code",
   "execution_count": null,
   "id": "f25768c2",
   "metadata": {},
   "outputs": [],
   "source": [
    "n = Int16(length(datos_temp)/70)\n",
    "animacion = @animate for x ∈ 0:n-1\n",
    "    heatmap(1:10, 1:7, reverse(reshape(datos_temp[((x*70)+1):((x*70)+70)],10,7)',dims=1), aspect_ratio = 1, title = \"t = $(4*x) s\", ticks = false, axis = false, clim = (25,41))\n",
    "end"
   ]
  },
  {
   "cell_type": "code",
   "execution_count": null,
   "id": "23e3b78c",
   "metadata": {},
   "outputs": [],
   "source": [
    "gif(animacion, \"quinta.gif\", fps = 1)"
   ]
  },
  {
   "cell_type": "code",
   "execution_count": null,
   "id": "b7f068e0",
   "metadata": {},
   "outputs": [],
   "source": [
    "info_serial = open(\"COM4\",9600)"
   ]
  },
  {
   "cell_type": "code",
   "execution_count": null,
   "id": "ac3f58b8",
   "metadata": {},
   "outputs": [],
   "source": [
    "datos = String(read(info_serial))"
   ]
  },
  {
   "cell_type": "code",
   "execution_count": null,
   "id": "3ccec2b4",
   "metadata": {},
   "outputs": [],
   "source": [
    "historial = []\n",
    "function toma_de_medidas(duracion)\n",
    "    for i ∈ 1:duracion\n",
    "        datos = String(read(info_serial))\n",
    "        push!(historial,datos)\n",
    "        sleep(5)\n",
    "    end\n",
    "end\n",
    "\n",
    "function tratamiento_de_datos(x)\n",
    "    #x = \"\"\n",
    "    datos_2 = []\n",
    "    matrices = []\n",
    "    #for i ∈ historial\n",
    "    #    x = x*i\n",
    "    #end\n",
    "    datos = split(x,\"\\r\\n\",keepempty=false)\n",
    "    for i ∈ 2:length(datos)-1\n",
    "        lista_1 = split(datos[i],\", \",keepempty=false)\n",
    "        lista_1 = parse.(Float32,lista_1)\n",
    "        push!(datos_2,lista_1)\n",
    "    end\n",
    "    for i ∈ datos_2\n",
    "        matriz_i = reverse(reshape(i,10,20)',dims=1)\n",
    "        push!(matrices,matriz_i)\n",
    "    end\n",
    "    return matrices\n",
    "end"
   ]
  },
  {
   "cell_type": "code",
   "execution_count": null,
   "id": "0ddc65fa",
   "metadata": {},
   "outputs": [],
   "source": [
    "x = read(\"datos.txt\", String)"
   ]
  },
  {
   "cell_type": "code",
   "execution_count": null,
   "id": "d8f01fe1",
   "metadata": {},
   "outputs": [],
   "source": [
    "valores=tratamiento_de_datos(x)"
   ]
  },
  {
   "cell_type": "code",
   "execution_count": null,
   "id": "28e06190",
   "metadata": {},
   "outputs": [],
   "source": [
    "n=length(valores)\n",
    "animacion = @animate for x ∈ 1:n\n",
    "    heatmap(1:10, 1:10, valores[x], aspect_ratio = 1, title = \"n = $(x)\", ticks = false, axis = false, clim = (25,40))\n",
    "end"
   ]
  },
  {
   "cell_type": "code",
   "execution_count": null,
   "id": "6a18ba55",
   "metadata": {},
   "outputs": [],
   "source": [
    "gif(animacion, \"sexta.gif\", fps = 5)"
   ]
  },
  {
   "cell_type": "code",
   "execution_count": null,
   "id": "f7c09273",
   "metadata": {},
   "outputs": [],
   "source": [
    "datos=1:200"
   ]
  },
  {
   "cell_type": "code",
   "execution_count": null,
   "id": "85396fef",
   "metadata": {},
   "outputs": [],
   "source": [
    "datos_2=reverse(reshape(datos,10,20)',dims=1)"
   ]
  },
  {
   "cell_type": "code",
   "execution_count": null,
   "id": "e979672b",
   "metadata": {},
   "outputs": [],
   "source": [
    "heatmap(1:10, 1:20, datos_2, aspect_ratio = 0.5, title = \"n=0\", ticks = false, axis = false, clim = (1,200))"
   ]
  },
  {
   "cell_type": "code",
   "execution_count": null,
   "id": "29334194",
   "metadata": {},
   "outputs": [],
   "source": [
    "x = read(\"datos_2.txt\", String)\n",
    "valores=tratamiento_de_datos(x)"
   ]
  },
  {
   "cell_type": "code",
   "execution_count": null,
   "id": "92dc8297",
   "metadata": {},
   "outputs": [],
   "source": [
    "n=length(valores)\n",
    "animacion = @animate for x ∈ 1:n\n",
    "    heatmap(1:10, 1:10, valores[x], aspect_ratio = 1, title = \"n = $(x)\", ticks = false, axis = false, clim = (25,40))\n",
    "end"
   ]
  },
  {
   "cell_type": "code",
   "execution_count": null,
   "id": "9fac6124",
   "metadata": {},
   "outputs": [],
   "source": [
    "gif(animacion, \"septima.gif\", fps = 5)"
   ]
  },
  {
   "cell_type": "code",
   "execution_count": null,
   "id": "7bd15cbc",
   "metadata": {},
   "outputs": [],
   "source": [
    "x = read(\"datos_2.txt\", String)\n",
    "valores=tratamiento_de_datos(x)"
   ]
  },
  {
   "cell_type": "code",
   "execution_count": null,
   "id": "ccc928f4",
   "metadata": {},
   "outputs": [],
   "source": [
    "n=length(valores)\n",
    "animacion = @animate for x ∈ 1:n\n",
    "    heatmap(1:10, 1:20, valores[x], aspect_ratio = 0.5, title = \"n = $(x)\", ticks = false, axis = false, clim = (25,40))\n",
    "end"
   ]
  },
  {
   "cell_type": "code",
   "execution_count": null,
   "id": "88cef0ad",
   "metadata": {},
   "outputs": [],
   "source": [
    "gif(animacion, \"octava.gif\", fps = 2)"
   ]
  },
  {
   "cell_type": "code",
   "execution_count": null,
   "id": "ec51df3d",
   "metadata": {},
   "outputs": [],
   "source": [
    "x = read(\"datos_3.txt\", String)\n",
    "valores=tratamiento_de_datos(x)"
   ]
  },
  {
   "cell_type": "code",
   "execution_count": null,
   "id": "de0f90b1",
   "metadata": {},
   "outputs": [],
   "source": [
    "n=length(valores)\n",
    "animacion = @animate for x ∈ 1:n\n",
    "    heatmap(1:10, 1:20, valores[x], aspect_ratio = 1, title = \"n = $(x)\", ticks = false, axis = false, clim = (25,42))\n",
    "end"
   ]
  },
  {
   "cell_type": "code",
   "execution_count": null,
   "id": "7147a752",
   "metadata": {},
   "outputs": [],
   "source": [
    "gif(animacion, \"novena.gif\", fps = 5)"
   ]
  },
  {
   "cell_type": "code",
   "execution_count": null,
   "id": "66d028d8",
   "metadata": {},
   "outputs": [],
   "source": [
    "##Corrección de error en los datos\n",
    "x = read(\"datos_4.txt\", String)\n",
    "datos = split(x,\"\\r\\n\",keepempty=false)\n",
    "datos_2=[]\n",
    "for i ∈ 3:length(datos)-1\n",
    "    lista_1 = split(datos[i],\", \",keepempty=false)\n",
    "    lista_1 = parse.(Float32,lista_1)\n",
    "    push!(datos_2,lista_1)\n",
    "end\n",
    "deleteat!(datos_2,9)"
   ]
  },
  {
   "cell_type": "code",
   "execution_count": null,
   "id": "ff699558",
   "metadata": {},
   "outputs": [],
   "source": [
    "matrices=[]\n",
    "for i ∈ datos_2\n",
    "    matriz_i = reverse(reshape(i,10,20)',dims=1)\n",
    "    push!(matrices,matriz_i)\n",
    "end"
   ]
  },
  {
   "cell_type": "code",
   "execution_count": null,
   "id": "e928bf7e",
   "metadata": {},
   "outputs": [],
   "source": [
    "n=length(matrices)\n",
    "animacion = @animate for x ∈ 1:n\n",
    "    heatmap(1:10, 1:20, matrices[x], aspect_ratio = 1, title = \"n = $(x)\", ticks = false, axis = false, clim = (25,40))\n",
    "end"
   ]
  },
  {
   "cell_type": "code",
   "execution_count": null,
   "id": "fb46d13a",
   "metadata": {},
   "outputs": [],
   "source": [
    "gif(animacion, \"decima.gif\", fps = 5)"
   ]
  },
  {
   "cell_type": "code",
   "execution_count": null,
   "id": "b6a4477b",
   "metadata": {},
   "outputs": [],
   "source": [
    "x = read(\"datos_prueba.txt\", String)\n",
    "datos = split(x,\"\\r\\n\",keepempty=false)\n",
    "datos_2=[]\n",
    "for i ∈ 2:length(datos)-1\n",
    "    lista_1 = split(datos[i],\", \",keepempty=false)\n",
    "    lista_1 = parse.(Float32,lista_1)\n",
    "    push!(datos_2,lista_1)\n",
    "end\n",
    "for i ∈ datos_2\n",
    "    println(length(i))\n",
    "end"
   ]
  },
  {
   "cell_type": "code",
   "execution_count": null,
   "id": "d27981db",
   "metadata": {},
   "outputs": [],
   "source": [
    "deleteat!(datos_2,8)"
   ]
  },
  {
   "cell_type": "code",
   "execution_count": null,
   "id": "ecdd7d5a",
   "metadata": {},
   "outputs": [],
   "source": [
    "for i ∈ datos_2\n",
    "    println(length(i))\n",
    "end"
   ]
  },
  {
   "cell_type": "code",
   "execution_count": null,
   "id": "daa9e314",
   "metadata": {},
   "outputs": [],
   "source": [
    "function solucion_difusion(n,m,h;A=2,k=0.5,Tₐ=25,duracion=100,T₀=60)\n",
    "    X = spzeros(n*m,n*m)\n",
    "    T = Tₐ*ones(n*m)\n",
    "    b = zeros(n*m)\n",
    "    Solucion = [reverse(reshape(T,m,n)',dims=1)]\n",
    "    for t ∈ 1:duracion\n",
    "        for i ∈ 1:n*m\n",
    "            if i<=m || mod(i,m)==0 || i>= 1+((n-1)*m) || mod(i-1,m)==0\n",
    "                X[i,i] = 1\n",
    "                b[i] = T₀\n",
    "            elseif mod(i,m+1)==0\n",
    "                X[i,i] = 1\n",
    "                b[i] = Tₐ\n",
    "            else\n",
    "                X[i,i-m] = A\n",
    "                X[i,i-1] = A\n",
    "                X[i,i+1] = A\n",
    "                X[i,i+m] = A\n",
    "                X[i,i] = -(4*A + k*k*h)\n",
    "                b[i] = -k*k*h*T[i]\n",
    "            end\n",
    "        end\n",
    "        T = X\\b\n",
    "        push!(Solucion,reverse(reshape(T,m,n)',dims=1))\n",
    "    end\n",
    "    return Solucion\n",
    "end"
   ]
  },
  {
   "cell_type": "code",
   "execution_count": null,
   "id": "4e48754f",
   "metadata": {},
   "outputs": [],
   "source": [
    "X = solucion_difusion(200,200,0.1,A=1,duracion=100)"
   ]
  },
  {
   "cell_type": "code",
   "execution_count": null,
   "id": "63ae2c9a",
   "metadata": {},
   "outputs": [],
   "source": [
    "n = length(X)\n",
    "animacion = @animate for x ∈ 1:n\n",
    "    heatmap(1:200, 1:200, X[x], aspect_ratio = 1, title = \"n = $(x)\", ticks = false, axis = false, clim = (25,60))\n",
    "end"
   ]
  },
  {
   "cell_type": "code",
   "execution_count": null,
   "id": "8a5d1caf",
   "metadata": {},
   "outputs": [],
   "source": [
    "gif(animacion, \"onceava.gif\", fps = 1)"
   ]
  },
  {
   "cell_type": "code",
   "execution_count": null,
   "id": "61d5b46f",
   "metadata": {},
   "outputs": [],
   "source": [
    "x = read(\"datos_5.txt\", String)\n",
    "datos = split(x,\"\\r\\n\",keepempty=false)\n",
    "datos_2=[]\n",
    "for i ∈ 2:length(datos)-1\n",
    "    lista_1 = split(datos[i],\", \",keepempty=false)\n",
    "    lista_1 = parse.(Float32,lista_1)\n",
    "    push!(datos_2,lista_1)\n",
    "end\n",
    "for i ∈ datos_2\n",
    "    println(length(i))\n",
    "end"
   ]
  },
  {
   "cell_type": "code",
   "execution_count": null,
   "id": "42675e9e",
   "metadata": {},
   "outputs": [],
   "source": [
    "deleteat!(datos_2,1)"
   ]
  },
  {
   "cell_type": "code",
   "execution_count": null,
   "id": "ce3a0add",
   "metadata": {},
   "outputs": [],
   "source": [
    "for i ∈ datos_2\n",
    "    println(length(i))\n",
    "end"
   ]
  },
  {
   "cell_type": "code",
   "execution_count": null,
   "id": "a22288c1",
   "metadata": {},
   "outputs": [],
   "source": [
    "matrices=[]\n",
    "for i ∈ datos_2\n",
    "    matriz_i = reverse(reshape(i,10,20)',dims=1)\n",
    "    push!(matrices,matriz_i)\n",
    "end"
   ]
  },
  {
   "cell_type": "code",
   "execution_count": null,
   "id": "b733c80a",
   "metadata": {},
   "outputs": [],
   "source": [
    "n=length(matrices)\n",
    "animacion = @animate for x ∈ 1:n\n",
    "    heatmap(1:10, 1:20, matrices[x], aspect_ratio = 1, title = \"n = $(x)\", ticks = false, axis = false, clim = (25,40))\n",
    "end"
   ]
  },
  {
   "cell_type": "code",
   "execution_count": null,
   "id": "206aa8d2",
   "metadata": {},
   "outputs": [],
   "source": [
    "gif(animacion, \"onceava.gif\", fps = 2)"
   ]
  },
  {
   "cell_type": "code",
   "execution_count": null,
   "id": "8629330c",
   "metadata": {},
   "outputs": [],
   "source": [
    "x = read(\"datos_6.txt\", String)\n",
    "datos = split(x,\"\\r\\n\",keepempty=false)\n",
    "datos_2=[]\n",
    "for i ∈ 2:length(datos)-1\n",
    "    lista_1 = split(datos[i],\", \",keepempty=false)\n",
    "    lista_1 = parse.(Float32,lista_1)\n",
    "    push!(datos_2,lista_1)\n",
    "end\n",
    "for i ∈ datos_2\n",
    "    println(length(i))\n",
    "end"
   ]
  },
  {
   "cell_type": "code",
   "execution_count": null,
   "id": "1b72f8a1",
   "metadata": {},
   "outputs": [],
   "source": [
    "deleteat!(datos_2,1)"
   ]
  },
  {
   "cell_type": "code",
   "execution_count": null,
   "id": "57db0e28",
   "metadata": {},
   "outputs": [],
   "source": [
    "matrices=[]\n",
    "for i ∈ datos_2\n",
    "    matriz_i = reverse(reshape(i,10,20)',dims=1)\n",
    "    push!(matrices,matriz_i)\n",
    "end"
   ]
  },
  {
   "cell_type": "code",
   "execution_count": null,
   "id": "adf8acfb",
   "metadata": {},
   "outputs": [],
   "source": [
    "n=length(matrices)\n",
    "animacion = @animate for x ∈ 1:n\n",
    "    heatmap(1:10, 1:20, matrices[x], aspect_ratio = 1, title = \"n = $(x)\", ticks = false, axis = false, clim = (25,40))\n",
    "end"
   ]
  },
  {
   "cell_type": "code",
   "execution_count": null,
   "id": "6195f182",
   "metadata": {},
   "outputs": [],
   "source": [
    "gif(animacion, \"doceava.gif\", fps = 2)"
   ]
  },
  {
   "cell_type": "code",
   "execution_count": null,
   "id": "9d398db6",
   "metadata": {},
   "outputs": [],
   "source": [
    "x = read(\"datos_7.txt\", String)\n",
    "datos = split(x,\"\\r\\n\",keepempty=false)\n",
    "datos_2=[]\n",
    "for i ∈ 2:length(datos)-1\n",
    "    lista_1 = split(datos[i],\", \",keepempty=false)\n",
    "    lista_1 = parse.(Float32,lista_1)\n",
    "    push!(datos_2,lista_1)\n",
    "end\n",
    "for i ∈ datos_2\n",
    "    println(length(i))\n",
    "end"
   ]
  },
  {
   "cell_type": "code",
   "execution_count": null,
   "id": "463744cb",
   "metadata": {},
   "outputs": [],
   "source": [
    "matrices=[]\n",
    "for i ∈ datos_2\n",
    "    matriz_i = reverse(reshape(i,10,20)',dims=1)\n",
    "    push!(matrices,matriz_i)\n",
    "end"
   ]
  },
  {
   "cell_type": "code",
   "execution_count": null,
   "id": "f203357a",
   "metadata": {},
   "outputs": [],
   "source": [
    "n=length(matrices)\n",
    "animacion = @animate for x ∈ 1:n\n",
    "    heatmap(1:10, 1:20, matrices[x], aspect_ratio = 1, title = \"n = $(x)\", ticks = false, axis = false, clim = (25,40))\n",
    "end"
   ]
  },
  {
   "cell_type": "code",
   "execution_count": null,
   "id": "c59652ef",
   "metadata": {},
   "outputs": [],
   "source": [
    "gif(animacion, \"doceava.gif\", fps = 2)"
   ]
  },
  {
   "cell_type": "code",
   "execution_count": null,
   "id": "5ad2ebda",
   "metadata": {},
   "outputs": [],
   "source": []
  }
 ],
 "metadata": {
  "kernelspec": {
   "display_name": "Julia 1.9.2",
   "language": "julia",
   "name": "julia-1.9"
  },
  "language_info": {
   "file_extension": ".jl",
   "mimetype": "application/julia",
   "name": "julia",
   "version": "1.9.2"
  }
 },
 "nbformat": 4,
 "nbformat_minor": 5
}
