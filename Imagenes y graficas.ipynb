{
 "cells": [
  {
   "cell_type": "code",
   "execution_count": 74,
   "id": "edb7531b",
   "metadata": {},
   "outputs": [],
   "source": [
    "using Plots, LaTeXStrings"
   ]
  },
  {
   "cell_type": "code",
   "execution_count": 139,
   "id": "a5e014ee",
   "metadata": {},
   "outputs": [
    {
     "data": {
      "text/plain": [
       "\"C:\\\\Users\\\\matia\\\\Desktop\\\\Tesis_Difusión_de_calor\\\\Barra.png\""
      ]
     },
     "execution_count": 139,
     "metadata": {},
     "output_type": "execute_result"
    }
   ],
   "source": [
    "y = -3:0.01:3\n",
    "x = 0:0.01:30\n",
    "x₁ = sqrt.(1 .- (y .^2)/9)\n",
    "x₂ = -1*sqrt.(1 .- (y .^2)/9)\n",
    "x₃ = 30 .+ sqrt.(1 .- (y .^2)/9)\n",
    "λ = 0:0.01:1\n",
    "\n",
    "#Barra completa\n",
    "plot(x₁,y,color=\"black\", label = false)\n",
    "plot!(x₂,y,color=\"black\", label = false)\n",
    "plot!(x₃,y,color=\"black\", label = false)\n",
    "plot!(x,3*ones(length(x)),color=\"black\",label=false)\n",
    "plot!(x,-3*ones(length(x)),color=\"black\",label=false)\n",
    "plot!(10 .+ x₁,y,color=\"black\", label = false, ls=:dash)\n",
    "plot!(11 .+ x₁,y,color=\"black\", label = false, ls=:dash)\n",
    "plot!(x,3.8*ones(length(x)),color=\"black\", label = false)\n",
    "plot!(zeros(length(3.4:0.01:4.2)),3.4:0.01:4.2,color=\"black\", label = false)\n",
    "plot!(30*ones(length(3.4:0.01:4.2)),3.4:0.01:4.2,color=\"black\", label = false)\n",
    "annotate!(15, 5.5, (L\"L\", 10, :black, :center))\n",
    "\n",
    "#Delta x\n",
    "plot!(45 .+ x₁,y,color=\"black\", label = false)\n",
    "plot!(45 .+ x₂,y,color=\"black\", label = false)\n",
    "plot!(50 .+ x₁,y,color=\"black\", label = false)\n",
    "plot!(45:0.01:50,3*ones(length(45:0.01:50)),color=\"black\", label = false)\n",
    "plot!(45:0.01:50,-3*ones(length(45:0.01:50)),color=\"black\", label = false)\n",
    "plot!(12.5 .+ (44-12.5)*λ, 3*λ,color=\"gray\", label = false,ls=:dash)\n",
    "plot!(12.5 .+ (44-12.5)*λ, -3*λ,color=\"gray\", label = false,ls=:dash)\n",
    "plot!(45:0.01:50,3.8*ones(length(45:0.01:50)),color=\"black\", label = false)\n",
    "plot!(45*ones(length(3.4:0.01:4.2)),3.4:0.01:4.2,color=\"black\", label = false)\n",
    "plot!(50*ones(length(3.4:0.01:4.2)),3.4:0.01:4.2,color=\"black\", label = false)\n",
    "annotate!(47.5, 5.5, (L\"\\Delta x\", 10, :black, :center))\n",
    "\n",
    "plot!([40.5,43.5],[0,0],arrow=true,color=:black,linewidth=1.5,label=false)\n",
    "plot!([51.5,54.5],[0,0],arrow=true,color=:black,linewidth=1.5,label=false)\n",
    "annotate!(37, 0, (L\"\\phi (x,t)\", 10, :black, :center))\n",
    "annotate!(60.5, 0, (L\"\\phi (x+\\Delta x,t)\", 10, :black, :center))\n",
    "\n",
    "plot!(grid=false,showaxis=false, aspect_ratio = 1, xlim = (-4.1,65),ylim = (-5.1,7), dpi = 250)\n",
    "savefig(\"Barra.png\")"
   ]
  },
  {
   "cell_type": "code",
   "execution_count": null,
   "id": "df926ad6",
   "metadata": {},
   "outputs": [],
   "source": []
  }
 ],
 "metadata": {
  "kernelspec": {
   "display_name": "Julia 1.9.2",
   "language": "julia",
   "name": "julia-1.9"
  },
  "language_info": {
   "file_extension": ".jl",
   "mimetype": "application/julia",
   "name": "julia",
   "version": "1.9.2"
  }
 },
 "nbformat": 4,
 "nbformat_minor": 5
}
