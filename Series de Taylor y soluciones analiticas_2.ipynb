{
 "cells": [
  {
   "cell_type": "code",
   "execution_count": null,
   "id": "57afc51f",
   "metadata": {},
   "outputs": [],
   "source": [
    "using Plots, ColorSchemes, SparseArrays"
   ]
  },
  {
   "cell_type": "code",
   "execution_count": null,
   "id": "4339856c",
   "metadata": {},
   "outputs": [],
   "source": [
    "function ∫(f,a,b;n=10000)\n",
    "    h=BigFloat((b-a)/n) \n",
    "    x=BigFloat(0)\n",
    "    for i ∈ 1:n\n",
    "       x+=(h*f(a+i*h))\n",
    "    end\n",
    "    return x\n",
    "end\n",
    "\n",
    "function coef_fourier(f,L,N)\n",
    "    coeficientes = []\n",
    "    for i ∈ 1:N\n",
    "        g(x) = f(x)*sin(i*π*x/L)\n",
    "        x = (2/L)*∫(g,0,L)\n",
    "        push!(coeficientes,x)\n",
    "    end\n",
    "    return coeficientes\n",
    "end\n",
    "\n",
    "function aprox_fourier(coeficientes,x,L;T₁=0,T₂=0)\n",
    "    suma = 0\n",
    "    for i ∈ 1:length(coeficientes)\n",
    "        suma += coeficientes[i]*sin(i*π*x/L)\n",
    "    end\n",
    "    suma += ((T₂-T₁)/L)*x + T₁\n",
    "    return suma\n",
    "end\n",
    "\n",
    "function coef_fourier_general(f,L;T₁=0,T₂=0,N=50)\n",
    "    g(x) = f(x) - ((T₂-T₁)/L)*x - T₁\n",
    "    coeficientes = coef_fourier(g,L,N) \n",
    "    return coeficientes\n",
    "end\n",
    "\n",
    "function solucion_cal_dirichlet(x,t,coeficientes,L;κ=0.01,T₁=0,T₂=0)\n",
    "    suma = 0\n",
    "    for i ∈ 1:length(coeficientes)\n",
    "        suma += coeficientes[i]*sin(i*π*x/L)*exp(-((i*π/L)^2)*t*κ)\n",
    "    end\n",
    "    suma += ((T₂-T₁)/L)*x + T₁\n",
    "    return suma\n",
    "end"
   ]
  },
  {
   "cell_type": "code",
   "execution_count": null,
   "id": "e8981aa7",
   "metadata": {},
   "outputs": [],
   "source": [
    "f(x) = -x^2 + 2*x\n",
    "xs = 0:0.001:2\n",
    "coeficientes = coef_fourier_general(f,2)"
   ]
  },
  {
   "cell_type": "code",
   "execution_count": null,
   "id": "51dfa245",
   "metadata": {},
   "outputs": [],
   "source": [
    "animacion = @animate for t ∈ 0:0.1:100\n",
    "    ys = []\n",
    "    for i ∈ 1:length(xs)\n",
    "        y = solucion_cal_dirichlet(xs[i],t,coeficientes,2)\n",
    "        push!(ys,y)\n",
    "    end\n",
    "    plot(xs,ys,line_z=ys,linecolor=:thermal,linewidth=3,label=false,title =\"t = $(t) s\",\n",
    "        ylims=(-0.1,1.02),xlims=(0,2),clim =(0,1))\n",
    "    plot!(xs,-0.1*ones(length(xs)),line_z=ys,linecolor=:thermal,linewidth=40,label=false,dpi=150)\n",
    "end"
   ]
  },
  {
   "cell_type": "code",
   "execution_count": null,
   "id": "335270f4",
   "metadata": {},
   "outputs": [],
   "source": [
    "gif(animacion,\"sol_1.gif\",fps =20)"
   ]
  },
  {
   "cell_type": "code",
   "execution_count": null,
   "id": "5766e699",
   "metadata": {},
   "outputs": [],
   "source": [
    "x2 = 0:0.001:4\n",
    "h(x) = 4*x*(x-1)*(x-3)^2+7\n",
    "coeficientes2 = coef_fourier_general(h,4;T₁=7,T₂=55,N=100)"
   ]
  },
  {
   "cell_type": "code",
   "execution_count": null,
   "id": "58a3da15",
   "metadata": {},
   "outputs": [],
   "source": [
    "animacion = @animate for t ∈ 0:0.1:100\n",
    "    y2 = []\n",
    "    for i ∈ 1:length(x2)\n",
    "        y = solucion_cal_dirichlet(x2[i],t,coeficientes2,4;T₁=7,T₂=55)\n",
    "        push!(y2,y)\n",
    "    end\n",
    "    plot(x2,y2,line_z=y2,linecolor=:thermal,linewidth=5,label=false,title=\"t = $(t) s\",\n",
    "        ylims=(-5,55),xlims=(0,4),clim = (7,55))\n",
    "    plot!(x2,-5*ones(length(x2)),line_z=y2,linecolor=:thermal,linewidth=40,label=false,dpi=150)\n",
    "end"
   ]
  },
  {
   "cell_type": "code",
   "execution_count": null,
   "id": "1ee2d696",
   "metadata": {},
   "outputs": [],
   "source": [
    "gif(animacion, \"sol_2.gif\", fps =20)"
   ]
  },
  {
   "cell_type": "code",
   "execution_count": null,
   "id": "68814c43",
   "metadata": {},
   "outputs": [],
   "source": [
    "function coef_fourier_cos(f,L,N)\n",
    "    coeficientes = []\n",
    "    for i ∈ 0:N\n",
    "        g(x) = f(x)*cos(i*π*x/L)\n",
    "        x = (2/L)*∫(g,0,L)\n",
    "        push!(coeficientes,x)\n",
    "    end\n",
    "    return coeficientes\n",
    "end\n",
    "\n",
    "function solucion_cal_neumann(x,t,coeficientes,L;κ=0.01)\n",
    "    suma = coeficientes[1]/2\n",
    "    for i ∈ 2:length(coeficientes)\n",
    "        suma += coeficientes[i]*cos((i-1)*π*x/L)*exp(-(((i-1)*π/L)^2)*t*κ)\n",
    "    end\n",
    "    return suma\n",
    "end"
   ]
  },
  {
   "cell_type": "code",
   "execution_count": null,
   "id": "9f9b6bbd",
   "metadata": {},
   "outputs": [],
   "source": [
    "f(x) = -x^2 + 2*x\n",
    "xs = 0:0.001:2\n",
    "coeficientes3 = coef_fourier_cos(f,2,50)"
   ]
  },
  {
   "cell_type": "code",
   "execution_count": null,
   "id": "5a53d66d",
   "metadata": {},
   "outputs": [],
   "source": [
    "animacion = @animate for t ∈ 0:0.1:100\n",
    "    ys = []\n",
    "    for i ∈ 1:length(xs)\n",
    "        y = solucion_cal_neumann(xs[i],t,coeficientes3,2)\n",
    "        push!(ys,y)\n",
    "    end\n",
    "    plot(xs,ys,line_z=ys,linecolor=:thermal,linewidth=3,label=false,title =\"t = $(t) s\",\n",
    "        ylims=(-0.1,1.02),xlims=(0,2),clim =(0,1))\n",
    "    plot!(xs,-0.1*ones(length(xs)),line_z=ys,linecolor=:thermal,linewidth=40,label=false,dpi=150)\n",
    "end"
   ]
  },
  {
   "cell_type": "code",
   "execution_count": null,
   "id": "3f5567c0",
   "metadata": {},
   "outputs": [],
   "source": [
    "gif(animacion,\"sol_3.gif\",fps =20)"
   ]
  },
  {
   "cell_type": "code",
   "execution_count": null,
   "id": "a8f01634",
   "metadata": {},
   "outputs": [],
   "source": [
    "x2 = 0:0.001:4\n",
    "h(x) = 4*x*(x-1)*(x-3)^2+7\n",
    "coeficientes4 = coef_fourier_cos(h,4,50)"
   ]
  },
  {
   "cell_type": "code",
   "execution_count": null,
   "id": "f8224971",
   "metadata": {},
   "outputs": [],
   "source": [
    "animacion = @animate for t ∈ 0:0.1:100\n",
    "    y2 = []\n",
    "    for i ∈ 1:length(x2)\n",
    "        y = solucion_cal_neumann(x2[i],t,coeficientes4,4)\n",
    "        push!(y2,y)\n",
    "    end\n",
    "    plot(x2,y2,line_z=y2,linecolor=:thermal,linewidth=5,label=false,title=\"t = $(t) s\",\n",
    "        ylims=(-5,55),xlims=(0,4),clim =(7,55))\n",
    "    plot!(x2,-5*ones(length(x2)),line_z=y2,linecolor=:thermal,linewidth=40,label=false,dpi=150)\n",
    "end"
   ]
  },
  {
   "cell_type": "code",
   "execution_count": null,
   "id": "695b4838",
   "metadata": {},
   "outputs": [],
   "source": [
    "gif(animacion,\"sol_4.gif\",fps =20)"
   ]
  },
  {
   "cell_type": "code",
   "execution_count": null,
   "id": "12da3ca7",
   "metadata": {},
   "outputs": [],
   "source": [
    "function solucion_difusion(n,h,f,T₁,T₂,c;A=2,duracion=100)\n",
    "    x=0:c*h:n*h*c\n",
    "    X = spzeros(n+1,n+1)\n",
    "    T = f.(x)\n",
    "    b = zeros(n+1)\n",
    "    Solucion = [T]\n",
    "    for t ∈ 1:duracion\n",
    "        for i ∈ 1:n+1\n",
    "            if i==1\n",
    "                X[i,i] = 1\n",
    "                b[i] = T₁\n",
    "            elseif i==n+1\n",
    "                X[i,i] = 1\n",
    "                b[i] = T₂\n",
    "            else\n",
    "                X[i,i-1] = A\n",
    "                X[i,i+1] = A\n",
    "                X[i,i] = -(2*A + h*c^2)\n",
    "                b[i] = -h*T[i]*c^2\n",
    "            end\n",
    "        end\n",
    "        T = X\\b\n",
    "        push!(Solucion,T)\n",
    "    end\n",
    "    return x, Solucion\n",
    "end"
   ]
  },
  {
   "cell_type": "code",
   "execution_count": null,
   "id": "2567ca7a",
   "metadata": {},
   "outputs": [],
   "source": [
    "f(x) = -x^2 + 2*x\n",
    "x, Sol = solucion_difusion(2000,0.1,f,0,0,0.01;A=0.01,duracion=1000)"
   ]
  },
  {
   "cell_type": "code",
   "execution_count": null,
   "id": "a8058fef",
   "metadata": {},
   "outputs": [],
   "source": [
    "anim = @animate for i ∈ 1:length(Sol)\n",
    "    plot(x,Sol[i],line_z=Sol[i],linecolor=:thermal,linewidth=3,label=false,title =\"t = $(round(i*0.1, digits=1)) s\",\n",
    "        ylims=(-0.1,1.02),xlims=(0,2),clim =(0,1))\n",
    "    plot!(x,-0.1*ones(length(x)),line_z=Sol[i],linecolor=:thermal,linewidth=40,label=false,dpi=150)\n",
    "end"
   ]
  },
  {
   "cell_type": "code",
   "execution_count": null,
   "id": "4d34a6e6",
   "metadata": {},
   "outputs": [],
   "source": [
    "gif(anim, \"prueba1.gif\", fps = 20)"
   ]
  },
  {
   "cell_type": "code",
   "execution_count": null,
   "id": "600d39ef",
   "metadata": {},
   "outputs": [],
   "source": [
    "g(x) = 4*x*(x-1)*(x-3)^2+7\n",
    "x2, Sol2 = solucion_difusion(4000,0.1,g,7,55,0.01;A=0.01,duracion=1000)"
   ]
  },
  {
   "cell_type": "code",
   "execution_count": null,
   "id": "be53eed3",
   "metadata": {},
   "outputs": [],
   "source": [
    "anim = @animate for i ∈ 1:length(Sol2)\n",
    "    plot(x2,Sol2[i],line_z=Sol2[i],linecolor=:thermal,linewidth=3,label=false,title =\"t = $(round(i*0.1, digits=1)) s\",\n",
    "        ylims=(-5,55),xlims=(0,4),clim = (7,55))\n",
    "    plot!(x2,-5*ones(length(x2)),line_z=Sol2[i],linecolor=:thermal,linewidth=40,label=false,dpi=150)\n",
    "end"
   ]
  },
  {
   "cell_type": "code",
   "execution_count": null,
   "id": "061455b5",
   "metadata": {},
   "outputs": [],
   "source": [
    "gif(anim, \"prueba2.gif\", fps = 20)"
   ]
  },
  {
   "cell_type": "code",
   "execution_count": null,
   "id": "1cd5a0db",
   "metadata": {},
   "outputs": [],
   "source": []
  }
 ],
 "metadata": {
  "kernelspec": {
   "display_name": "Julia 1.9.2",
   "language": "julia",
   "name": "julia-1.9"
  },
  "language_info": {
   "file_extension": ".jl",
   "mimetype": "application/julia",
   "name": "julia",
   "version": "1.9.2"
  }
 },
 "nbformat": 4,
 "nbformat_minor": 5
}
